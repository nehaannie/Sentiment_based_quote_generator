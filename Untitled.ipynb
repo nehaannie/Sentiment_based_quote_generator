{
 "cells": [
  {
   "cell_type": "code",
   "execution_count": 14,
   "id": "53e4e599",
   "metadata": {},
   "outputs": [],
   "source": [
    "import pandas as pd"
   ]
  },
  {
   "cell_type": "code",
   "execution_count": 15,
   "id": "ff03862f",
   "metadata": {},
   "outputs": [],
   "source": [
    "quotes=pd.read_csv('quote_stash.csv')"
   ]
  },
  {
   "cell_type": "code",
   "execution_count": 16,
   "id": "9b28c41e",
   "metadata": {},
   "outputs": [
    {
     "data": {
      "text/html": [
       "<div>\n",
       "<style scoped>\n",
       "    .dataframe tbody tr th:only-of-type {\n",
       "        vertical-align: middle;\n",
       "    }\n",
       "\n",
       "    .dataframe tbody tr th {\n",
       "        vertical-align: top;\n",
       "    }\n",
       "\n",
       "    .dataframe thead th {\n",
       "        text-align: right;\n",
       "    }\n",
       "</style>\n",
       "<table border=\"1\" class=\"dataframe\">\n",
       "  <thead>\n",
       "    <tr style=\"text-align: right;\">\n",
       "      <th></th>\n",
       "      <th>quote</th>\n",
       "      <th>author</th>\n",
       "    </tr>\n",
       "  </thead>\n",
       "  <tbody>\n",
       "    <tr>\n",
       "      <th>0</th>\n",
       "      <td>Pain is inevitable, but misery is optional.</td>\n",
       "      <td>Tim Hansel</td>\n",
       "    </tr>\n",
       "    <tr>\n",
       "      <th>1</th>\n",
       "      <td>To avoid criticism, do nothing, say nothing, b...</td>\n",
       "      <td>Elbert Hubbard</td>\n",
       "    </tr>\n",
       "    <tr>\n",
       "      <th>2</th>\n",
       "      <td>Believe and act as if it were impossible to fail.</td>\n",
       "      <td>Charles Kettering</td>\n",
       "    </tr>\n",
       "    <tr>\n",
       "      <th>3</th>\n",
       "      <td>Never get out of the boat. Absolutely goddamn ...</td>\n",
       "      <td>Captain Willard</td>\n",
       "    </tr>\n",
       "    <tr>\n",
       "      <th>4</th>\n",
       "      <td>Nobody can make you feel inferior without your...</td>\n",
       "      <td>Eleanor Roosevelt</td>\n",
       "    </tr>\n",
       "  </tbody>\n",
       "</table>\n",
       "</div>"
      ],
      "text/plain": [
       "                                               quote             author\n",
       "0        Pain is inevitable, but misery is optional.         Tim Hansel\n",
       "1  To avoid criticism, do nothing, say nothing, b...     Elbert Hubbard\n",
       "2  Believe and act as if it were impossible to fail.  Charles Kettering\n",
       "3  Never get out of the boat. Absolutely goddamn ...    Captain Willard\n",
       "4  Nobody can make you feel inferior without your...  Eleanor Roosevelt"
      ]
     },
     "execution_count": 16,
     "metadata": {},
     "output_type": "execute_result"
    }
   ],
   "source": [
    "quotes.head()"
   ]
  },
  {
   "cell_type": "code",
   "execution_count": 17,
   "id": "140909a6",
   "metadata": {},
   "outputs": [],
   "source": [
    "quotes=quotes.drop_duplicates(subset='author',keep='last')"
   ]
  },
  {
   "cell_type": "code",
   "execution_count": 18,
   "id": "bd1cb6b6",
   "metadata": {},
   "outputs": [
    {
     "data": {
      "text/html": [
       "<div>\n",
       "<style scoped>\n",
       "    .dataframe tbody tr th:only-of-type {\n",
       "        vertical-align: middle;\n",
       "    }\n",
       "\n",
       "    .dataframe tbody tr th {\n",
       "        vertical-align: top;\n",
       "    }\n",
       "\n",
       "    .dataframe thead th {\n",
       "        text-align: right;\n",
       "    }\n",
       "</style>\n",
       "<table border=\"1\" class=\"dataframe\">\n",
       "  <thead>\n",
       "    <tr style=\"text-align: right;\">\n",
       "      <th></th>\n",
       "      <th>quote</th>\n",
       "      <th>author</th>\n",
       "    </tr>\n",
       "  </thead>\n",
       "  <tbody>\n",
       "    <tr>\n",
       "      <th>0</th>\n",
       "      <td>Pain is inevitable, but misery is optional.</td>\n",
       "      <td>Tim Hansel</td>\n",
       "    </tr>\n",
       "    <tr>\n",
       "      <th>1</th>\n",
       "      <td>To avoid criticism, do nothing, say nothing, b...</td>\n",
       "      <td>Elbert Hubbard</td>\n",
       "    </tr>\n",
       "    <tr>\n",
       "      <th>2</th>\n",
       "      <td>Believe and act as if it were impossible to fail.</td>\n",
       "      <td>Charles Kettering</td>\n",
       "    </tr>\n",
       "    <tr>\n",
       "      <th>3</th>\n",
       "      <td>Never get out of the boat. Absolutely goddamn ...</td>\n",
       "      <td>Captain Willard</td>\n",
       "    </tr>\n",
       "    <tr>\n",
       "      <th>4</th>\n",
       "      <td>Nobody can make you feel inferior without your...</td>\n",
       "      <td>Eleanor Roosevelt</td>\n",
       "    </tr>\n",
       "  </tbody>\n",
       "</table>\n",
       "</div>"
      ],
      "text/plain": [
       "                                               quote             author\n",
       "0        Pain is inevitable, but misery is optional.         Tim Hansel\n",
       "1  To avoid criticism, do nothing, say nothing, b...     Elbert Hubbard\n",
       "2  Believe and act as if it were impossible to fail.  Charles Kettering\n",
       "3  Never get out of the boat. Absolutely goddamn ...    Captain Willard\n",
       "4  Nobody can make you feel inferior without your...  Eleanor Roosevelt"
      ]
     },
     "execution_count": 18,
     "metadata": {},
     "output_type": "execute_result"
    }
   ],
   "source": [
    "quotes.head()"
   ]
  },
  {
   "cell_type": "code",
   "execution_count": 19,
   "id": "83ffd00c",
   "metadata": {},
   "outputs": [
    {
     "data": {
      "text/plain": [
       "(108, 2)"
      ]
     },
     "execution_count": 19,
     "metadata": {},
     "output_type": "execute_result"
    }
   ],
   "source": [
    "quotes.shape"
   ]
  },
  {
   "cell_type": "code",
   "execution_count": 20,
   "id": "e0aff076",
   "metadata": {},
   "outputs": [],
   "source": [
    "quotes.to_csv('quotes.csv',index=None)"
   ]
  },
  {
   "cell_type": "code",
   "execution_count": 21,
   "id": "77a8e37d",
   "metadata": {},
   "outputs": [],
   "source": [
    "quotes_test=pd.read_csv('quotes_test.csv')"
   ]
  },
  {
   "cell_type": "code",
   "execution_count": 22,
   "id": "b2b2c16c",
   "metadata": {},
   "outputs": [
    {
     "data": {
      "text/html": [
       "<div>\n",
       "<style scoped>\n",
       "    .dataframe tbody tr th:only-of-type {\n",
       "        vertical-align: middle;\n",
       "    }\n",
       "\n",
       "    .dataframe tbody tr th {\n",
       "        vertical-align: top;\n",
       "    }\n",
       "\n",
       "    .dataframe thead th {\n",
       "        text-align: right;\n",
       "    }\n",
       "</style>\n",
       "<table border=\"1\" class=\"dataframe\">\n",
       "  <thead>\n",
       "    <tr style=\"text-align: right;\">\n",
       "      <th></th>\n",
       "      <th>Quotes</th>\n",
       "      <th>Authors</th>\n",
       "    </tr>\n",
       "  </thead>\n",
       "  <tbody>\n",
       "    <tr>\n",
       "      <th>0</th>\n",
       "      <td>If you want to achieve greatness stop asking f...</td>\n",
       "      <td>Anonymous</td>\n",
       "    </tr>\n",
       "    <tr>\n",
       "      <th>1</th>\n",
       "      <td>Things work out best for those who make the be...</td>\n",
       "      <td>John Wooden</td>\n",
       "    </tr>\n",
       "    <tr>\n",
       "      <th>2</th>\n",
       "      <td>To live a creative life, we must lose our fear...</td>\n",
       "      <td>Anonymous</td>\n",
       "    </tr>\n",
       "    <tr>\n",
       "      <th>3</th>\n",
       "      <td>If you are not willing to risk the usual you w...</td>\n",
       "      <td>Jim Rohn</td>\n",
       "    </tr>\n",
       "    <tr>\n",
       "      <th>4</th>\n",
       "      <td>Trust because you are willing to accept the ri...</td>\n",
       "      <td>Anonymous</td>\n",
       "    </tr>\n",
       "  </tbody>\n",
       "</table>\n",
       "</div>"
      ],
      "text/plain": [
       "                                              Quotes      Authors\n",
       "0  If you want to achieve greatness stop asking f...    Anonymous\n",
       "1  Things work out best for those who make the be...  John Wooden\n",
       "2  To live a creative life, we must lose our fear...    Anonymous\n",
       "3  If you are not willing to risk the usual you w...     Jim Rohn\n",
       "4  Trust because you are willing to accept the ri...    Anonymous"
      ]
     },
     "execution_count": 22,
     "metadata": {},
     "output_type": "execute_result"
    }
   ],
   "source": [
    "quotes_test.head()"
   ]
  },
  {
   "cell_type": "code",
   "execution_count": 23,
   "id": "d2fa0fd0",
   "metadata": {},
   "outputs": [
    {
     "name": "stderr",
     "output_type": "stream",
     "text": [
      "[nltk_data] Downloading package vader_lexicon to\n",
      "[nltk_data]     C:\\Users\\ASUS\\AppData\\Roaming\\nltk_data...\n",
      "[nltk_data]   Package vader_lexicon is already up-to-date!\n"
     ]
    },
    {
     "data": {
      "text/plain": [
       "True"
      ]
     },
     "execution_count": 23,
     "metadata": {},
     "output_type": "execute_result"
    }
   ],
   "source": [
    "import nltk\n",
    "nltk.download('vader_lexicon')"
   ]
  },
  {
   "cell_type": "code",
   "execution_count": 24,
   "id": "2720546f",
   "metadata": {},
   "outputs": [
    {
     "name": "stdout",
     "output_type": "stream",
     "text": [
      "Pain is inevitable, but misery is optional.\n",
      "compound:-0.802,neg:0.59,neu:0.41,pos:0.0,To avoid criticism, do nothing, say nothing, be nothing.\n",
      "compound:-0.6249,neg:0.421,neu:0.579,pos:0.0,Believe and act as if it were impossible to fail.\n",
      "compound:-0.5423,neg:0.28,neu:0.72,pos:0.0,Never get out of the boat. Absolutely goddamn right. Unless you were goin' all the way.\n",
      "compound:-0.5256,neg:0.184,neu:0.816,pos:0.0,Nobody can make you feel inferior without your consent.\n",
      "compound:-0.5213,neg:0.384,neu:0.616,pos:0.0,What we fear doing most is usually what we most need to do.\n",
      "compound:-0.4939,neg:0.211,neu:0.789,pos:0.0,Everything you’ve ever wanted is on the other side of fear.\n",
      "compound:-0.4939,neg:0.242,neu:0.758,pos:0.0,Success is going from failure to failure without losing your enthusiasm.\n",
      "compound:-0.4805,neg:0.431,neu:0.287,pos:0.282,If there is no struggle, there is no progress.\n",
      "compound:-0.4404,neg:0.462,neu:0.345,pos:0.193,There are no short cuts to any place worth going.\n",
      "compound:-0.3612,neg:0.331,neu:0.526,pos:0.143,In each business, we have two strands: the day-to-day, and the future group thinking, 'How do I disrupt myself?' The people running it can't be the same ones thinking about its disruption.\n",
      "compound:-0.3612,neg:0.077,neu:0.923,pos:0.0,No person will have occasion to complain of the want of time who never loses any.\n",
      "compound:-0.3481,neg:0.235,neu:0.601,pos:0.163,The most common form of despair is not being who you are.\n",
      "compound:-0.3182,neg:0.173,neu:0.827,pos:0.0,There are no traffic jams along the extra mile.\n",
      "compound:-0.296,neg:0.216,neu:0.784,pos:0.0,Do it trembling if you must, but do it!\n",
      "compound:-0.2598,neg:0.203,neu:0.797,pos:0.0,Money is, in some respects, like fire. It is a very excellent servant, but a terrible master.\n",
      "compound:-0.2391,neg:0.269,neu:0.46,pos:0.271,If you don't go after what you want, you'll never have it. If you don't ask, the answer is always no. If you don't step forward, you're always in the same place.\n",
      "compound:-0.2263,neg:0.066,neu:0.896,pos:0.039,And it is awfully hard to come up with those ideas if you don't have any time to think.\n",
      "compound:-0.1761,neg:0.086,neu:0.914,pos:0.0,You miss 100% of the shots you don’t take.\n",
      "compound:-0.1531,neg:0.167,neu:0.833,pos:0.0,Every next level of your life will demand a different version of you.\n",
      "compound:-0.128,neg:0.12,neu:0.88,pos:0.0,Every strike brings me closer to the next home run.\n",
      "compound:-0.128,neg:0.143,neu:0.857,pos:0.0,Obsessed is just a word the lazy use to describe the dedicated.\n",
      "compound:-0.0516,neg:0.276,neu:0.526,pos:0.197,Be who you are and say what you feel, because those who mind don't matter, and those who matter don't mind.\n",
      "compound:-0.0382,neg:0.102,neu:0.898,pos:0.0,Change your thoughts and you change your world.\n",
      "compound:0.0,neg:0.0,neu:1.0,pos:0.0,If you aren’t going all the way, why go at all?\n",
      "compound:0.0,neg:0.0,neu:1.0,pos:0.0,The dreamers are the saviors of the world.\n",
      "compound:0.0,neg:0.0,neu:1.0,pos:0.0,One thing modeling taught me is that the spotlight can change everything.\n",
      "compound:0.0,neg:0.0,neu:1.0,pos:0.0,It’s not whether you get knocked down, it’s whether you get up.\n",
      "compound:0.0,neg:0.0,neu:1.0,pos:0.0,Very often a change of self is needed more than a change of scene.\n",
      "compound:0.0,neg:0.0,neu:1.0,pos:0.0,You must do what others don't to achieve what others won't.\n",
      "compound:0.0,neg:0.0,neu:1.0,pos:0.0,I don't know who my grandfather was; I am much more concerned to know what his grandson will be.\n",
      "compound:0.0,neg:0.0,neu:1.0,pos:0.0,If you have everything under control, you’re not moving fast enough.\n",
      "compound:0.0,neg:0.0,neu:1.0,pos:0.0,You've got to bumble forward into the unknown.\n",
      "compound:0.0,neg:0.0,neu:1.0,pos:0.0,How Everyone you Will Ever Meet Knows Something that You Don't.\n",
      "compound:0.0,neg:0.0,neu:1.0,pos:0.0,Don’t wait. The time will never be just right.\n",
      "compound:0.0,neg:0.0,neu:1.0,pos:0.0,Learn from yesterday, live for today, look to tomorrow, rest this afternoon.\n",
      "compound:0.0,neg:0.0,neu:1.0,pos:0.0,The power of imagination makes us infinite.\n",
      "compound:0.0,neg:0.0,neu:1.0,pos:0.0,Forever is composed of nows.\n",
      "compound:0.0,neg:0.0,neu:1.0,pos:0.0,Don’t count the days, make the days count.\n",
      "compound:0.0,neg:0.0,neu:1.0,pos:0.0,Always make a total effort, even when the odds are against you.\n",
      "compound:0.0,neg:0.0,neu:1.0,pos:0.0,If you can’t outplay them, outwork them.\n",
      "compound:0.0,neg:0.0,neu:1.0,pos:0.0,When you come to a roadblock, take a detour.\n",
      "compound:0.0,neg:0.0,neu:1.0,pos:0.0,Believe you can and you’re halfway there.\n",
      "compound:0.0,neg:0.0,neu:1.0,pos:0.0,Do what you can, where you are, with what you have.\n",
      "compound:0.0,neg:0.0,neu:1.0,pos:0.0,Even if you’re on the right track, you’ll get run over if you just sit there.\n",
      "compound:0.0,neg:0.0,neu:1.0,pos:0.0,Life is 10% what happens to you and 90% how you react to it.\n",
      "compound:0.0,neg:0.0,neu:1.0,pos:0.0,Life's simple. You make choices and you don't look back.\n",
      "compound:0.0,neg:0.0,neu:1.0,pos:0.0,Light tomorrow with today.\n",
      "compound:0.0,neg:0.0,neu:1.0,pos:0.0,I will go anywhere as long as it is forward.\n",
      "compound:0.0,neg:0.0,neu:1.0,pos:0.0,The difference between ordinary and extraordinary is that little extra.\n",
      "compound:0.0,neg:0.0,neu:1.0,pos:0.0,Don't live the same day over and over again and call that a life.\n",
      "compound:0.0,neg:0.0,neu:1.0,pos:0.0,When you talk, you are only repeating what you already know. But if you listen, you may learn something new.\n",
      "compound:0.0,neg:0.0,neu:1.0,pos:0.0,If you have some power, then your job is to empower somebody else.\n",
      "compound:0.0,neg:0.0,neu:1.0,pos:0.0,It is never too late to be what you might have been.\n",
      "compound:0.0,neg:0.0,neu:1.0,pos:0.0,The price of anything is the amount of life you exchange for it.\n",
      "compound:0.0,neg:0.0,neu:1.0,pos:0.0,It does not do to leave a live dragon out of your calculations, if you live near him.\n",
      "compound:0.0382,neg:0.0,neu:0.933,pos:0.067,Tough times never last, but tough people do.\n",
      "compound:0.0785,neg:0.142,neu:0.681,pos:0.177,The more I want to get something done, the less I call it work.\n",
      "compound:0.1513,neg:0.0,neu:0.874,pos:0.126,A person who is nice to you, but rude to the waiter, is not a nice person.\n",
      "compound:0.1531,neg:0.185,neu:0.556,pos:0.259,It does not matter how slowly you go as long as you do not stop.\n",
      "compound:0.2057,neg:0.067,neu:0.814,pos:0.118,Try not. Do, or do not. There is no try.\n",
      "compound:0.2235,neg:0.0,neu:0.827,pos:0.173,Our dreams feel real while we're in them. It's only when we wake we realize things were strange\n",
      "compound:0.2263,neg:0.088,neu:0.78,pos:0.132,The gateway skill to good time management is when you ask not just what you need to do, but how long it will take.\n",
      "compound:0.2382,neg:0.0,neu:0.922,pos:0.078,Life is not a problem to be solved, but a reality to be experienced.\n",
      "compound:0.2912,neg:0.0,neu:0.759,pos:0.241,Every moment is a fresh beginning.\n",
      "compound:0.3182,neg:0.0,neu:0.635,pos:0.365,Waking up this morning, I smile. 24 brand new hours are before me. I vow to live fully in each moment.\n",
      "compound:0.3612,neg:0.0,neu:0.878,pos:0.122,Sell a man a fish, he eats for a day. Teach a man how to fish, you ruin a wonderful business opportunity.\n",
      "compound:0.4019,neg:0.156,neu:0.576,pos:0.267,You must be the change you wish to see in the world.\n",
      "compound:0.4019,neg:0.0,neu:0.803,pos:0.197,A year from now you may wish you had started today.\n",
      "compound:0.4019,neg:0.0,neu:0.769,pos:0.231,If you don’t build your dreams, someone will hire you to build theirs.\n",
      "compound:0.4019,neg:0.0,neu:0.816,pos:0.184,You must be the person you have never had the courage to be. Gradually, you will discover that you are that person, but until you can see this clearly, you must pretend and invent.\n",
      "compound:0.4163,neg:0.088,neu:0.803,pos:0.108,The road to Easy Street goes through the sewer.\n",
      "compound:0.4404,neg:0.0,neu:0.734,pos:0.266,The harder I work, the luckier I get.\n",
      "compound:0.4404,neg:0.0,neu:0.633,pos:0.367,Just keep going. Everybody gets better if they keep at it.\n",
      "compound:0.4404,neg:0.0,neu:0.775,pos:0.225,'What day is it?' asked Pooh. 'It’s today,' squeaked Piglet. 'My favorite day,' said Pooh.\n",
      "compound:0.4588,neg:0.0,neu:0.824,pos:0.176,The competitor to be feared is one who never bothers about you at all, but goes on making his own business better all the time.\n",
      "compound:0.4671,neg:0.072,neu:0.752,pos:0.176,People love to buy, they don't like to be sold.\n",
      "compound:0.4749,neg:0.147,neu:0.559,pos:0.294,Few \"great\" ideas come from an individual; instead, they’re gradually expanded on and improved by a team or network of individuals.\n",
      "compound:0.4767,neg:0.0,neu:0.86,pos:0.14,It takes courage to grow up and become who you really are.\n",
      "compound:0.4939,neg:0.0,neu:0.775,pos:0.225,Keep your face to the sunshine and you can never see the shadow.\n",
      "compound:0.4939,neg:0.0,neu:0.789,pos:0.211,Look at everything always as though you were seeing it either for the first or last time: Thus is your time on earth filled with glory.\n",
      "compound:0.5423,neg:0.0,neu:0.877,pos:0.123,Don’t downgrade your dream just to fit your reality.\n",
      "compound:0.5423,neg:0.0,neu:0.609,pos:0.391,The trick is to enjoy life. Don't wish away your days, waiting for better ones ahead.\n",
      "compound:0.5635,neg:0.16,neu:0.557,pos:0.283,Action is the foundational key to all success.\n",
      "compound:0.5719,neg:0.0,neu:0.654,pos:0.346,There is only one success: to be able to spend your life in your own way.\n",
      "compound:0.5719,neg:0.0,neu:0.802,pos:0.198,Life is beautiful, as long as it consumes you.\n",
      "compound:0.5994,neg:0.0,neu:0.672,pos:0.328,Make each day your masterpiece.\n",
      "compound:0.6249,neg:0.0,neu:0.494,pos:0.506,Never let your memories be greater than your dreams.\n",
      "compound:0.6369,neg:0.0,neu:0.574,pos:0.426,Write it on your heart that every day is the best day in the year.\n",
      "compound:0.6369,neg:0.0,neu:0.769,pos:0.231,The best way to predict the future is to invent it.\n",
      "compound:0.6369,neg:0.0,neu:0.704,pos:0.296,The best time to plant a tree was twenty years ago, the second-best time is right now.\n",
      "compound:0.6369,neg:0.0,neu:0.781,pos:0.219,I think laziness is a cardinal sin -- not in the sense that you should always keep busy, but in the sense that if you have the potential to create something that can be useful to others, then you should do everything you can to make it happen.\n",
      "compound:0.6369,neg:0.044,neu:0.83,pos:0.125,Do what you love and the money will follow.\n",
      "compound:0.6369,neg:0.0,neu:0.656,pos:0.344,Champions keep playing until they get it right.\n",
      "compound:0.6369,neg:0.0,neu:0.536,pos:0.464,The best way out is always through.\n",
      "compound:0.6369,neg:0.0,neu:0.588,pos:0.412,Every morning, I imagine creating a new business that needs to be sold by the end of the day. I better hustle today!\n",
      "compound:0.6588,neg:0.0,neu:0.769,pos:0.231,The highest profits are made in trades that show a profit right from the start.\n",
      "compound:0.7003,neg:0.0,neu:0.674,pos:0.326,Fact is, no one cares about your marketing goals. But everyone likes a good story.\n",
      "compound:0.8381,neg:0.076,neu:0.473,pos:0.452,It is much more difficult to judge oneself than to judge others. If you succeed in judging yourself rightly, then you are indeed a man of true wisdom.\n",
      "compound:0.7655,neg:0.079,neu:0.654,pos:0.267,The first principle is that you must not fool yourself and you are the easiest person to fool.\n",
      "compound:0.7658,neg:0.0,neu:0.663,pos:0.337,The best dreams happen when you’re awake.\n",
      "compound:0.7845,neg:0.0,neu:0.42,pos:0.58,Remember that sometimes not getting what you want is a wonderful stroke of luck.\n",
      "compound:0.7906,neg:0.0,neu:0.556,pos:0.444,I'm sure the universe is full of intelligent life. It's just been too intelligent to come here.\n",
      "compound:0.8074,neg:0.0,neu:0.628,pos:0.372,Don’t wish it were easier, wish you were better.\n",
      "compound:0.8779,neg:0.0,neu:0.311,pos:0.689,Out yonder there was this huge world, which exists independently of us human beings and which stands before us like a great, eternal riddle, at least partially accessible to our inspection and thinking. The contemplation of this world beckoned like a liberation…\n",
      "compound:0.8939,neg:0.0,neu:0.754,pos:0.246,Life is beautiful, so long as it is consuming you. When it is rushing through you, destroying you, life is glorious. It is best to roar away, like a fire with a great draught, white-hot to the last bit.\n",
      "compound:0.9313,neg:0.109,neu:0.546,pos:0.344,I offer you peace. I offer you love. I offer you friendship. I see your beauty. I hear your need. I feel your feelings.\n",
      "compound:0.9371,neg:0.0,neu:0.493,pos:0.507,When we are mindful, deeply in touch with the present moment, our understanding of what is going on deepens, and we begin to be filled with acceptance, joy, peace and love.\n",
      "compound:0.9382,neg:0.0,neu:0.651,pos:0.349,"
     ]
    }
   ],
   "source": [
    "from nltk.sentiment.vader import SentimentIntensityAnalyzer\n",
    "\n",
    "# Initialize the SentimentIntensityAnalyzer\n",
    "sid = SentimentIntensityAnalyzer()\n",
    "\n",
    "# List to store compound scores\n",
    "all_compounds = []\n",
    "\n",
    "# Iterate over each sentence in the 'quotes' DataFrame\n",
    "for sentence in quotes['quote']:\n",
    "    print(sentence)\n",
    "    \n",
    "    # Get the sentiment scores for the sentence\n",
    "    ss = sid.polarity_scores(sentence)\n",
    "    \n",
    "    # Print each sentiment score\n",
    "    for k in sorted(ss):\n",
    "        print('{0}:{1},'.format(k, ss[k]), end='')\n",
    "    \n",
    "    # Append the compound score to the list\n",
    "    if 'compound' in ss:\n",
    "        all_compounds.append(ss['compound'])\n"
   ]
  },
  {
   "cell_type": "code",
   "execution_count": 26,
   "id": "94720341",
   "metadata": {},
   "outputs": [
    {
     "data": {
      "image/png": "[encoded data removed]",
      "text/plain": [
       "<Figure size 640x480 with 1 Axes>"
      ]
     },
     "metadata": {},
     "output_type": "display_data"
    }
   ],
   "source": [
    "import matplotlib\n",
    "import matplotlib.pyplot as plt\n",
    "plt.plot(sorted(all_compounds))\n",
    "plt.title('Overall entiment in Quote Stash')\n",
    "plt.grid()"
   ]
  },
  {
   "cell_type": "code",
   "execution_count": 27,
   "id": "b57b2b14",
   "metadata": {},
   "outputs": [
    {
     "data": {
      "text/html": [
       "<div>\n",
       "<style scoped>\n",
       "    .dataframe tbody tr th:only-of-type {\n",
       "        vertical-align: middle;\n",
       "    }\n",
       "\n",
       "    .dataframe tbody tr th {\n",
       "        vertical-align: top;\n",
       "    }\n",
       "\n",
       "    .dataframe thead th {\n",
       "        text-align: right;\n",
       "    }\n",
       "</style>\n",
       "<table border=\"1\" class=\"dataframe\">\n",
       "  <thead>\n",
       "    <tr style=\"text-align: right;\">\n",
       "      <th></th>\n",
       "      <th>quote</th>\n",
       "      <th>author</th>\n",
       "      <th>sentiment_score</th>\n",
       "    </tr>\n",
       "  </thead>\n",
       "  <tbody>\n",
       "    <tr>\n",
       "      <th>0</th>\n",
       "      <td>Pain is inevitable, but misery is optional.</td>\n",
       "      <td>Tim Hansel</td>\n",
       "      <td>-0.8020</td>\n",
       "    </tr>\n",
       "    <tr>\n",
       "      <th>1</th>\n",
       "      <td>To avoid criticism, do nothing, say nothing, b...</td>\n",
       "      <td>Elbert Hubbard</td>\n",
       "      <td>-0.6249</td>\n",
       "    </tr>\n",
       "    <tr>\n",
       "      <th>2</th>\n",
       "      <td>Believe and act as if it were impossible to fail.</td>\n",
       "      <td>Charles Kettering</td>\n",
       "      <td>-0.5423</td>\n",
       "    </tr>\n",
       "    <tr>\n",
       "      <th>3</th>\n",
       "      <td>Never get out of the boat. Absolutely goddamn ...</td>\n",
       "      <td>Captain Willard</td>\n",
       "      <td>-0.5256</td>\n",
       "    </tr>\n",
       "    <tr>\n",
       "      <th>4</th>\n",
       "      <td>Nobody can make you feel inferior without your...</td>\n",
       "      <td>Eleanor Roosevelt</td>\n",
       "      <td>-0.5213</td>\n",
       "    </tr>\n",
       "  </tbody>\n",
       "</table>\n",
       "</div>"
      ],
      "text/plain": [
       "                                               quote             author  \\\n",
       "0        Pain is inevitable, but misery is optional.         Tim Hansel   \n",
       "1  To avoid criticism, do nothing, say nothing, b...     Elbert Hubbard   \n",
       "2  Believe and act as if it were impossible to fail.  Charles Kettering   \n",
       "3  Never get out of the boat. Absolutely goddamn ...    Captain Willard   \n",
       "4  Nobody can make you feel inferior without your...  Eleanor Roosevelt   \n",
       "\n",
       "   sentiment_score  \n",
       "0          -0.8020  \n",
       "1          -0.6249  \n",
       "2          -0.5423  \n",
       "3          -0.5256  \n",
       "4          -0.5213  "
      ]
     },
     "execution_count": 27,
     "metadata": {},
     "output_type": "execute_result"
    }
   ],
   "source": [
    "quotes['sentiment_score']=all_compounds\n",
    "quotes.head()"
   ]
  },
  {
   "cell_type": "code",
   "execution_count": 28,
   "id": "91d48e7e",
   "metadata": {},
   "outputs": [
    {
     "data": {
      "text/plain": [
       "-0.802"
      ]
     },
     "execution_count": 28,
     "metadata": {},
     "output_type": "execute_result"
    }
   ],
   "source": [
    "import numpy as np\n",
    "np.min(quotes['sentiment_score'])"
   ]
  },
  {
   "cell_type": "code",
   "execution_count": 29,
   "id": "a307aa7c",
   "metadata": {},
   "outputs": [
    {
     "data": {
      "text/plain": [
       "0.9382"
      ]
     },
     "execution_count": 29,
     "metadata": {},
     "output_type": "execute_result"
    }
   ],
   "source": [
    "np.max(quotes['sentiment_score'])"
   ]
  },
  {
   "cell_type": "code",
   "execution_count": 30,
   "id": "a7ceaa9b",
   "metadata": {},
   "outputs": [
    {
     "data": {
      "text/html": [
       "<div>\n",
       "<style scoped>\n",
       "    .dataframe tbody tr th:only-of-type {\n",
       "        vertical-align: middle;\n",
       "    }\n",
       "\n",
       "    .dataframe tbody tr th {\n",
       "        vertical-align: top;\n",
       "    }\n",
       "\n",
       "    .dataframe thead th {\n",
       "        text-align: right;\n",
       "    }\n",
       "</style>\n",
       "<table border=\"1\" class=\"dataframe\">\n",
       "  <thead>\n",
       "    <tr style=\"text-align: right;\">\n",
       "      <th></th>\n",
       "      <th>quote</th>\n",
       "      <th>author</th>\n",
       "      <th>sentiment_score</th>\n",
       "    </tr>\n",
       "  </thead>\n",
       "  <tbody>\n",
       "    <tr>\n",
       "      <th>0</th>\n",
       "      <td>Pain is inevitable, but misery is optional.</td>\n",
       "      <td>Tim Hansel</td>\n",
       "      <td>-0.802</td>\n",
       "    </tr>\n",
       "  </tbody>\n",
       "</table>\n",
       "</div>"
      ],
      "text/plain": [
       "                                         quote      author  sentiment_score\n",
       "0  Pain is inevitable, but misery is optional.  Tim Hansel           -0.802"
      ]
     },
     "execution_count": 30,
     "metadata": {},
     "output_type": "execute_result"
    }
   ],
   "source": [
    "quotes[quotes['sentiment_score']==np.min(quotes['sentiment_score'])]"
   ]
  },
  {
   "cell_type": "code",
   "execution_count": 31,
   "id": "325b1e38",
   "metadata": {},
   "outputs": [
    {
     "data": {
      "text/html": [
       "<div>\n",
       "<style scoped>\n",
       "    .dataframe tbody tr th:only-of-type {\n",
       "        vertical-align: middle;\n",
       "    }\n",
       "\n",
       "    .dataframe tbody tr th {\n",
       "        vertical-align: top;\n",
       "    }\n",
       "\n",
       "    .dataframe thead th {\n",
       "        text-align: right;\n",
       "    }\n",
       "</style>\n",
       "<table border=\"1\" class=\"dataframe\">\n",
       "  <thead>\n",
       "    <tr style=\"text-align: right;\">\n",
       "      <th></th>\n",
       "      <th>quote</th>\n",
       "      <th>author</th>\n",
       "      <th>sentiment_score</th>\n",
       "    </tr>\n",
       "  </thead>\n",
       "  <tbody>\n",
       "    <tr>\n",
       "      <th>107</th>\n",
       "      <td>When we are mindful, deeply in touch with the ...</td>\n",
       "      <td>Thich Nhat Hanh</td>\n",
       "      <td>0.9382</td>\n",
       "    </tr>\n",
       "  </tbody>\n",
       "</table>\n",
       "</div>"
      ],
      "text/plain": [
       "                                                 quote           author  \\\n",
       "107  When we are mindful, deeply in touch with the ...  Thich Nhat Hanh   \n",
       "\n",
       "     sentiment_score  \n",
       "107           0.9382  "
      ]
     },
     "execution_count": 31,
     "metadata": {},
     "output_type": "execute_result"
    }
   ],
   "source": [
    "quotes[quotes['sentiment_score']==np.max(quotes['sentiment_score'])]"
   ]
  },
  {
   "cell_type": "code",
   "execution_count": 34,
   "id": "1b0306bf",
   "metadata": {},
   "outputs": [],
   "source": [
    "import pandas as pd\n",
    "from nltk.sentiment.vader import SentimentIntensityAnalyzer\n",
    "from random import randrange\n",
    "\n",
    "quotes = None\n",
    "\n",
    "def prep(quote_stash):\n",
    "    global quotes\n",
    "    quotes = pd.read_csv(quote_stash)  # Load the CSV file with quotes\n",
    "    sid = SentimentIntensityAnalyzer()  # Initialize the sentiment analyzer\n",
    "    \n",
    "    # Calculate sentiment scores for each quote\n",
    "    all_compounds = [sid.polarity_scores(sentence)['compound'] for sentence in quotes['quote']]\n",
    "    \n",
    "    # Add sentiment scores to the DataFrame and sort by these scores\n",
    "    quotes['sentiment_score'] = all_compounds\n",
    "    quotes = quotes.sort_values('sentiment_score').reset_index(drop=True)\n",
    "    \n",
    "    # Add a new index column\n",
    "    quotes['index'] = range(len(quotes))\n",
    "    \n",
    "    return quotes\n"
   ]
  },
  {
   "cell_type": "code",
   "execution_count": 36,
   "id": "b1464470",
   "metadata": {},
   "outputs": [
    {
     "data": {
      "text/html": [
       "<div>\n",
       "<style scoped>\n",
       "    .dataframe tbody tr th:only-of-type {\n",
       "        vertical-align: middle;\n",
       "    }\n",
       "\n",
       "    .dataframe tbody tr th {\n",
       "        vertical-align: top;\n",
       "    }\n",
       "\n",
       "    .dataframe thead th {\n",
       "        text-align: right;\n",
       "    }\n",
       "</style>\n",
       "<table border=\"1\" class=\"dataframe\">\n",
       "  <thead>\n",
       "    <tr style=\"text-align: right;\">\n",
       "      <th></th>\n",
       "      <th>quote</th>\n",
       "      <th>author</th>\n",
       "      <th>sentiment_score</th>\n",
       "      <th>index</th>\n",
       "    </tr>\n",
       "  </thead>\n",
       "  <tbody>\n",
       "    <tr>\n",
       "      <th>0</th>\n",
       "      <td>Pain is inevitable, but misery is optional.</td>\n",
       "      <td>Tim Hansel</td>\n",
       "      <td>-0.8020</td>\n",
       "      <td>0</td>\n",
       "    </tr>\n",
       "    <tr>\n",
       "      <th>1</th>\n",
       "      <td>To avoid criticism, do nothing, say nothing, b...</td>\n",
       "      <td>Elbert Hubbard</td>\n",
       "      <td>-0.6249</td>\n",
       "      <td>1</td>\n",
       "    </tr>\n",
       "    <tr>\n",
       "      <th>2</th>\n",
       "      <td>Believe and act as if it were impossible to fail.</td>\n",
       "      <td>Charles Kettering</td>\n",
       "      <td>-0.5423</td>\n",
       "      <td>2</td>\n",
       "    </tr>\n",
       "    <tr>\n",
       "      <th>3</th>\n",
       "      <td>Never get out of the boat. Absolutely goddamn ...</td>\n",
       "      <td>Captain Willard</td>\n",
       "      <td>-0.5256</td>\n",
       "      <td>3</td>\n",
       "    </tr>\n",
       "    <tr>\n",
       "      <th>4</th>\n",
       "      <td>Nobody can make you feel inferior without your...</td>\n",
       "      <td>Eleanor Roosevelt</td>\n",
       "      <td>-0.5213</td>\n",
       "      <td>4</td>\n",
       "    </tr>\n",
       "  </tbody>\n",
       "</table>\n",
       "</div>"
      ],
      "text/plain": [
       "                                               quote             author  \\\n",
       "0        Pain is inevitable, but misery is optional.         Tim Hansel   \n",
       "1  To avoid criticism, do nothing, say nothing, b...     Elbert Hubbard   \n",
       "2  Believe and act as if it were impossible to fail.  Charles Kettering   \n",
       "3  Never get out of the boat. Absolutely goddamn ...    Captain Willard   \n",
       "4  Nobody can make you feel inferior without your...  Eleanor Roosevelt   \n",
       "\n",
       "   sentiment_score  index  \n",
       "0          -0.8020      0  \n",
       "1          -0.6249      1  \n",
       "2          -0.5423      2  \n",
       "3          -0.5256      3  \n",
       "4          -0.5213      4  "
      ]
     },
     "execution_count": 36,
     "metadata": {},
     "output_type": "execute_result"
    }
   ],
   "source": [
    "prep('quotes.csv')\n",
    "quotes.head()"
   ]
  },
  {
   "cell_type": "markdown",
   "id": "7ec24000",
   "metadata": {},
   "source": [
    "Handling user requests for new quotes"
   ]
  },
  {
   "cell_type": "code",
   "execution_count": 37,
   "id": "05ad85d7",
   "metadata": {},
   "outputs": [],
   "source": [
    "max_index_value=np.max(quotes['index'].values)"
   ]
  },
  {
   "cell_type": "code",
   "execution_count": 48,
   "id": "47616cf2",
   "metadata": {},
   "outputs": [],
   "source": [
    "\n",
    "\n",
    "max_index_value = 100  # Replace with the actual maximum index value\n",
    "\n",
    "def give_a_quote(direction=None, current_index=None):\n",
    "    # Initialize the random index\n",
    "    rand_index = randrange(max_index_value)\n",
    "\n",
    "    if current_index is not None:\n",
    "        try:\n",
    "            # Ensure current_index is an integer\n",
    "            current_index = int(current_index)\n",
    "        except ValueError:\n",
    "            current_index = rand_index  # If conversion fails, use a random index\n",
    "        \n",
    "        if direction == 'darker':\n",
    "            # Choose a random index from the lower sentiment scores\n",
    "            if current_index > 0:\n",
    "                rand_index = randrange(0, current_index)\n",
    "        elif direction == 'brighter':\n",
    "            # Choose a random index from the higher sentiment scores\n",
    "            if current_index < max_index_value - 1:\n",
    "                rand_index = randrange(current_index + 1, max_index_value)\n",
    "    # If current_index is None, or direction is not specified, return a random index\n",
    "    return rand_index\n"
   ]
  },
  {
   "cell_type": "code",
   "execution_count": 49,
   "id": "51a64f5d",
   "metadata": {},
   "outputs": [
    {
     "data": {
      "text/plain": [
       "1"
      ]
     },
     "execution_count": 49,
     "metadata": {},
     "output_type": "execute_result"
    }
   ],
   "source": [
    "give_a_quote('darker',20)"
   ]
  },
  {
   "cell_type": "code",
   "execution_count": 50,
   "id": "244ccfa2",
   "metadata": {},
   "outputs": [
    {
     "data": {
      "text/html": [
       "<div>\n",
       "<style scoped>\n",
       "    .dataframe tbody tr th:only-of-type {\n",
       "        vertical-align: middle;\n",
       "    }\n",
       "\n",
       "    .dataframe tbody tr th {\n",
       "        vertical-align: top;\n",
       "    }\n",
       "\n",
       "    .dataframe thead th {\n",
       "        text-align: right;\n",
       "    }\n",
       "</style>\n",
       "<table border=\"1\" class=\"dataframe\">\n",
       "  <thead>\n",
       "    <tr style=\"text-align: right;\">\n",
       "      <th></th>\n",
       "      <th>quote</th>\n",
       "      <th>author</th>\n",
       "      <th>sentiment_score</th>\n",
       "      <th>index</th>\n",
       "    </tr>\n",
       "  </thead>\n",
       "  <tbody>\n",
       "    <tr>\n",
       "      <th>98</th>\n",
       "      <td>The first principle is that you must not fool ...</td>\n",
       "      <td>Richard Feynman</td>\n",
       "      <td>0.7658</td>\n",
       "      <td>98</td>\n",
       "    </tr>\n",
       "  </tbody>\n",
       "</table>\n",
       "</div>"
      ],
      "text/plain": [
       "                                                quote           author  \\\n",
       "98  The first principle is that you must not fool ...  Richard Feynman   \n",
       "\n",
       "    sentiment_score  index  \n",
       "98           0.7658     98  "
      ]
     },
     "execution_count": 50,
     "metadata": {},
     "output_type": "execute_result"
    }
   ],
   "source": [
    "quotes[quotes['index']==give_a_quote('brighter',55)]"
   ]
  },
  {
   "cell_type": "code",
   "execution_count": 51,
   "id": "b164aacc",
   "metadata": {},
   "outputs": [
    {
     "data": {
      "text/html": [
       "<div>\n",
       "<style scoped>\n",
       "    .dataframe tbody tr th:only-of-type {\n",
       "        vertical-align: middle;\n",
       "    }\n",
       "\n",
       "    .dataframe tbody tr th {\n",
       "        vertical-align: top;\n",
       "    }\n",
       "\n",
       "    .dataframe thead th {\n",
       "        text-align: right;\n",
       "    }\n",
       "</style>\n",
       "<table border=\"1\" class=\"dataframe\">\n",
       "  <thead>\n",
       "    <tr style=\"text-align: right;\">\n",
       "      <th></th>\n",
       "      <th>quote</th>\n",
       "      <th>author</th>\n",
       "      <th>sentiment_score</th>\n",
       "      <th>index</th>\n",
       "    </tr>\n",
       "  </thead>\n",
       "  <tbody>\n",
       "    <tr>\n",
       "      <th>3</th>\n",
       "      <td>Never get out of the boat. Absolutely goddamn ...</td>\n",
       "      <td>Captain Willard</td>\n",
       "      <td>-0.5256</td>\n",
       "      <td>3</td>\n",
       "    </tr>\n",
       "  </tbody>\n",
       "</table>\n",
       "</div>"
      ],
      "text/plain": [
       "                                               quote           author  \\\n",
       "3  Never get out of the boat. Absolutely goddamn ...  Captain Willard   \n",
       "\n",
       "   sentiment_score  index  \n",
       "3          -0.5256      3  "
      ]
     },
     "execution_count": 51,
     "metadata": {},
     "output_type": "execute_result"
    }
   ],
   "source": [
    "quotes[quotes['index']==give_a_quote('darker',30)]"
   ]
  }
 ],
 "metadata": {
  "kernelspec": {
   "display_name": "Python 3 (ipykernel)",
   "language": "python",
   "name": "python3"
  },
  "language_info": {
   "codemirror_mode": {
    "name": "ipython",
    "version": 3
   },
   "file_extension": ".py",
   "mimetype": "text/x-python",
   "name": "python",
   "nbconvert_exporter": "python",
   "pygments_lexer": "ipython3",
   "version": "3.9.12"
  }
 },
 "nbformat": 4,
 "nbformat_minor": 5
}
